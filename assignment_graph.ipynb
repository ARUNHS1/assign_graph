{
 "cells": [
  {
   "cell_type": "markdown",
   "metadata": {},
   "source": [
    "\n",
    "- Breadth First Traversal for a Graph\n",
    "- Depth First Traversal for a Graph\n",
    "- Count the number of nodes at given level in a tree using BFS\n",
    "- Count number of trees in a forest\n",
    "- Detect Cycle in a Directed Graph\n",
    "\n",
    "\n",
    "- Implement n-Queen’s Problem"
   ]
  },
  {
   "cell_type": "code",
   "execution_count": null,
   "metadata": {},
   "outputs": [],
   "source": []
  }
 ],
 "metadata": {
  "language_info": {
   "name": "python"
  }
 },
 "nbformat": 4,
 "nbformat_minor": 2
}
